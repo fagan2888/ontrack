{
 "cells": [
  {
   "cell_type": "code",
   "execution_count": 1,
   "metadata": {},
   "outputs": [
    {
     "name": "stdout",
     "output_type": "stream",
     "text": [
      "Using matplotlib backend: Qt5Agg\n"
     ]
    },
    {
     "name": "stderr",
     "output_type": "stream",
     "text": [
      "C:\\Anaconda3\\envs\\wradlib0_11_3\\lib\\site-packages\\h5py\\__init__.py:36: FutureWarning: Conversion of the second argument of issubdtype from `float` to `np.floating` is deprecated. In future, it will be treated as `np.float64 == np.dtype(float).type`.\n",
      "  from ._conv import register_converters as _register_converters\n"
     ]
    }
   ],
   "source": [
    "%matplotlib\n",
    "import wradlib\n",
    "#import cv2\n",
    "import numpy as np\n",
    "import os\n",
    "import matplotlib.pyplot as plt\n",
    "#from matplotlib import animation\n",
    "import matplotlib.patches as mpatches\n",
    "from matplotlib.collections import PatchCollection\n",
    "from scipy.ndimage import zoom\n",
    "import datetime\n",
    "import warnings\n",
    "warnings.simplefilter('once', DeprecationWarning)"
   ]
  },
  {
   "cell_type": "code",
   "execution_count": 2,
   "metadata": {},
   "outputs": [],
   "source": [
    "from scipy import ndimage as ndi\n",
    "from skimage import feature\n",
    "from skimage.feature import match_template"
   ]
  },
  {
   "cell_type": "code",
   "execution_count": 3,
   "metadata": {},
   "outputs": [],
   "source": [
    "from skimage import measure\n",
    "from skimage import filters\n",
    "from scipy import ndimage\n",
    "from skimage.measure import label, regionprops\n",
    "import math\n",
    "from matplotlib.patches import Ellipse"
   ]
  },
  {
   "cell_type": "markdown",
   "metadata": {},
   "source": [
    "## Read sample data\n",
    "\n",
    "Data is from the German Weather Service: the so called RY product represents rainfall intensity composite for the whole of Germany in 5 minute intervals. \n",
    "\n",
    "Spatial resolution: `1 x 1 km`; spatial extent: `900 x 900 km`.\n",
    "\n",
    "**Information required from user**\n",
    "\n",
    "- specify the directory `datadir` where you store the RY data (unpack the ry archives there).\n",
    "- select a specific interval by commenting/uncommenting the `dtimes` lines.\n",
    "- decide whether you need to reduce the resolution (downsize the image by a `downsizeby`) in order to avoid memory problems (this becomes relevant once you solve the 2D-adveciton equation...)"
   ]
  },
  {
   "cell_type": "code",
   "execution_count": 29,
   "metadata": {},
   "outputs": [],
   "source": [
    "# Set data directory\n",
    "datadir = \"data/ry\"\n",
    "\n",
    "# Original grid dimensions\n",
    "nx = 900\n",
    "ny = 900\n",
    "\n",
    "# pixel size (in meters)\n",
    "dx = 1000.\n",
    "dy = 1000.\n",
    "\n",
    "# Downsize by factor \"downsizeby\"\n",
    "#    downsizeby = 1 will leave the dimensions unchanged,\n",
    "#    but for a 900x900 km grid, downsizing might be \n",
    "#    required in order to avoid MemoryError\n",
    "downsizeby = 1\n",
    "\n",
    "# interval between observations (in seconds)\n",
    "interval = 300\n",
    "\n",
    "# Set time window\n",
    "##dtimes = wradlib.util.from_to(\"2008-06-02 17:00:00\", \"2008-06-02 19:00:00\", interval)\n",
    "##dtimes = wradlib.util.from_to(\"2015-04-26 17:00:00\", \"2015-04-26 19:00:00\", interval)\n",
    "##dtimes = wradlib.util.from_to(\"2015-03-29 17:00:00\", \"2015-03-29 19:00:00\", interval)\n",
    "##dtimes = wradlib.util.from_to(\"2016-05-29 16:30:00\", \"2016-05-29 18:30:00\", interval)\n",
    "dtimes = wradlib.util.from_to(\"2016-05-23 04:00:00\", \"2016-05-23 08:00:00\", interval)"
   ]
  },
  {
   "cell_type": "code",
   "execution_count": 30,
   "metadata": {},
   "outputs": [
    {
     "name": "stderr",
     "output_type": "stream",
     "text": [
      "E:\\src\\git\\heistermann\\wradlib\\wradlib\\trafo.py:127: RuntimeWarning: divide by zero encountered in log10\n",
      "  return 10. * np.log10(x)\n"
     ]
    }
   ],
   "source": [
    "# Compute grid dimensions and grid coordinates after resampling\n",
    "dx2, dy2 = dx*downsizeby, dy*downsizeby\n",
    "nx2, ny2 = int(nx/downsizeby), int(ny/downsizeby)\n",
    "\n",
    "X2, Y2 = np.meshgrid( np.arange(0,nx2*dx2, dx2), np.arange(0,ny2*dy2, dy2) )\n",
    "\n",
    "# Define container\n",
    "frames = np.zeros( (len(dtimes), nx2, ny2 ) )\n",
    "\n",
    "# Read the data, convert back to dBZ, and downsize\n",
    "#   (maybe also try with keeping mm/h instead of converting to dBZ?)\n",
    "for i, dtime in enumerate(dtimes):\n",
    "    fname = dtime.strftime( os.path.join(datadir, \"raa01-ry_10000-%y%m%d%H%M-dwd---bin\") )\n",
    "    frames[i] = zoom( wradlib.io.read_RADOLAN_composite(fname, missing=0)[0], 1./downsizeby, order=1)\n",
    "    frames[i] = wradlib.trafo.decibel( wradlib.zr.r2z(frames[i]) )\n",
    "    frames[i][frames[i]<0] = 0 "
   ]
  },
  {
   "cell_type": "code",
   "execution_count": 31,
   "metadata": {},
   "outputs": [
    {
     "name": "stderr",
     "output_type": "stream",
     "text": [
      "C:\\Anaconda3\\envs\\wradlib0_11_3\\lib\\site-packages\\ipykernel_launcher.py:3: DeprecatedWarning: open_shape is deprecated as of 0.11.1 and will be removed in 1.0.0. Use `wradlib.io.open_vector` instead.\n",
      "  This is separate from the ipykernel package so we can avoid doing imports until\n"
     ]
    }
   ],
   "source": [
    "proj = wradlib.georef.create_osr(\"dwd-radolan\")\n",
    "watersheds_shp = r\"E:\\src\\git\\heisterm_bitbucket\\tsms_data\\tsms-data-misc\\shapefiles\\watersheds_kocher.shp\"\n",
    "dataset, inLayer = wradlib.io.open_shape(watersheds_shp)\n",
    "cats, ids = wradlib.georef.get_shape_coordinates(inLayer, dest_srs=proj,\n",
    "                                                 key=\"value\")\n",
    "ids = np.array(ids)\n",
    "left, right, bottom, top = inLayer.GetExtent()"
   ]
  },
  {
   "cell_type": "code",
   "execution_count": 32,
   "metadata": {},
   "outputs": [],
   "source": [
    "radolan_grid_xy = wradlib.georef.get_radolan_grid(900,900)\n",
    "x = radolan_grid_xy[:,:,0]\n",
    "y = radolan_grid_xy[:,:,1]"
   ]
  },
  {
   "cell_type": "code",
   "execution_count": 1,
   "metadata": {},
   "outputs": [
    {
     "ename": "NameError",
     "evalue": "name 'plt' is not defined",
     "output_type": "error",
     "traceback": [
      "\u001b[1;31m---------------------------------------------------------------------------\u001b[0m",
      "\u001b[1;31mNameError\u001b[0m                                 Traceback (most recent call last)",
      "\u001b[1;32m<ipython-input-1-a930a23b7eb3>\u001b[0m in \u001b[0;36m<module>\u001b[1;34m()\u001b[0m\n\u001b[1;32m----> 1\u001b[1;33m \u001b[0mfig\u001b[0m \u001b[1;33m=\u001b[0m \u001b[0mplt\u001b[0m\u001b[1;33m.\u001b[0m\u001b[0mfigure\u001b[0m\u001b[1;33m(\u001b[0m\u001b[0mfigsize\u001b[0m\u001b[1;33m=\u001b[0m\u001b[1;33m(\u001b[0m\u001b[1;36m12\u001b[0m\u001b[1;33m,\u001b[0m \u001b[1;36m12\u001b[0m\u001b[1;33m)\u001b[0m\u001b[1;33m)\u001b[0m\u001b[1;33m\u001b[0m\u001b[0m\n\u001b[0m\u001b[0;32m      2\u001b[0m \u001b[0max\u001b[0m \u001b[1;33m=\u001b[0m \u001b[0mfig\u001b[0m\u001b[1;33m.\u001b[0m\u001b[0madd_subplot\u001b[0m\u001b[1;33m(\u001b[0m\u001b[1;36m111\u001b[0m\u001b[1;33m)\u001b[0m\u001b[1;33m\u001b[0m\u001b[0m\n\u001b[0;32m      3\u001b[0m \u001b[0mplt\u001b[0m\u001b[1;33m.\u001b[0m\u001b[0mpcolormesh\u001b[0m\u001b[1;33m(\u001b[0m\u001b[0mx\u001b[0m\u001b[1;33m,\u001b[0m \u001b[0my\u001b[0m\u001b[1;33m,\u001b[0m \u001b[0mframes\u001b[0m\u001b[1;33m.\u001b[0m\u001b[0msum\u001b[0m\u001b[1;33m(\u001b[0m\u001b[0maxis\u001b[0m\u001b[1;33m=\u001b[0m\u001b[1;36m0\u001b[0m\u001b[1;33m)\u001b[0m\u001b[1;33m,\u001b[0m \u001b[0mvmin\u001b[0m\u001b[1;33m=\u001b[0m\u001b[1;36m0\u001b[0m\u001b[1;33m,\u001b[0m \u001b[0mcmap\u001b[0m\u001b[1;33m=\u001b[0m\u001b[1;34m\"gray\"\u001b[0m\u001b[1;33m)\u001b[0m\u001b[1;33m\u001b[0m\u001b[0m\n\u001b[0;32m      4\u001b[0m \u001b[0mcb\u001b[0m \u001b[1;33m=\u001b[0m \u001b[0mplt\u001b[0m\u001b[1;33m.\u001b[0m\u001b[0mcolorbar\u001b[0m\u001b[1;33m(\u001b[0m\u001b[0mshrink\u001b[0m\u001b[1;33m=\u001b[0m\u001b[1;36m0.75\u001b[0m\u001b[1;33m)\u001b[0m\u001b[1;33m\u001b[0m\u001b[0m\n\u001b[0;32m      5\u001b[0m \u001b[0mwradlib\u001b[0m\u001b[1;33m.\u001b[0m\u001b[0mvis\u001b[0m\u001b[1;33m.\u001b[0m\u001b[0madd_lines\u001b[0m\u001b[1;33m(\u001b[0m\u001b[0max\u001b[0m\u001b[1;33m,\u001b[0m \u001b[0mcats\u001b[0m\u001b[1;33m,\u001b[0m \u001b[0mcolor\u001b[0m\u001b[1;33m=\u001b[0m\u001b[1;34m'red'\u001b[0m\u001b[1;33m,\u001b[0m \u001b[0mlw\u001b[0m\u001b[1;33m=\u001b[0m\u001b[1;36m0.5\u001b[0m\u001b[1;33m,\u001b[0m \u001b[0mzorder\u001b[0m\u001b[1;33m=\u001b[0m\u001b[1;36m4\u001b[0m\u001b[1;33m,\u001b[0m \u001b[0malpha\u001b[0m\u001b[1;33m=\u001b[0m\u001b[1;36m0.3\u001b[0m\u001b[1;33m)\u001b[0m\u001b[1;33m\u001b[0m\u001b[0m\n",
      "\u001b[1;31mNameError\u001b[0m: name 'plt' is not defined"
     ]
    }
   ],
   "source": [
    "fig = plt.figure(figsize=(12, 12))\n",
    "ax = fig.add_subplot(111)\n",
    "plt.pcolormesh(x, y, frames.sum(axis=0), vmin=0, cmap=\"gray\")\n",
    "cb = plt.colorbar(shrink=0.75)\n",
    "wradlib.vis.add_lines(ax, cats, color='red', lw=0.5, zorder=4, alpha=0.3)\n",
    "#plt.xlim(-40,20)\n",
    "#plt.ylim(-4440,-4390)"
   ]
  },
  {
   "cell_type": "code",
   "execution_count": 33,
   "metadata": {},
   "outputs": [],
   "source": [
    "#im = wradlib.trafo.r2depth(frames[12:12+24].mean(axis=0), interval=300*20)\n",
    "im = frames"
   ]
  },
  {
   "cell_type": "code",
   "execution_count": 34,
   "metadata": {},
   "outputs": [
    {
     "name": "stdout",
     "output_type": "stream",
     "text": [
      "7325\n"
     ]
    }
   ],
   "source": [
    "blobs = im > 15.\n",
    "label_im = measure.label(blobs, background=0)\n",
    "nb_labels = len(np.unique(label_im))\n",
    "\n",
    "#sizes = ndimage.sum(blobs, label_im, range(nb_labels + 1))\n",
    "#mask_size = sizes < 1500\n",
    "#remove_pixel = mask_size[label_im]\n",
    "#label_im[remove_pixel] = 0\n",
    "#labels = np.unique(label_im)\n",
    "#label_im = np.searchsorted(labels, label_im)\n",
    "\n",
    "regions = regionprops(label_im, intensity_image=im)\n",
    "print(len(regions))"
   ]
  },
  {
   "cell_type": "code",
   "execution_count": 35,
   "metadata": {},
   "outputs": [
    {
     "name": "stdout",
     "output_type": "stream",
     "text": [
      "99\n"
     ]
    }
   ],
   "source": [
    "minsize = 100\n",
    "maxsize = 4000\n",
    "minintensity = 22\n",
    "labels = np.array([region.label for region in regions])\n",
    "islarge = np.array([(region.area >= minsize) for region in regions])\n",
    "#islarge = np.array([((region.area >= minsize) & (region.area < maxsize)) for region in regions])\n",
    "largelabels = labels[islarge]\n",
    "print(len(largelabels))"
   ]
  },
  {
   "cell_type": "code",
   "execution_count": 36,
   "metadata": {},
   "outputs": [],
   "source": [
    "label_im[~np.isin(label_im, largelabels)] = 0\n",
    "labels = np.unique(label_im)"
   ]
  },
  {
   "cell_type": "code",
   "execution_count": 12,
   "metadata": {},
   "outputs": [],
   "source": [
    "plt.figure(figsize=(8,8))\n",
    "#plt.imshow(im.mean(axis=0), cmap=plt.cm.gray, origin=\"lower\")\n",
    "plt.imshow(frames.mean(axis=0), cmap=plt.cm.gray, origin=\"lower\", vmin=15)\n",
    "plt.xlabel(\"RADOLAN easting (km)\")\n",
    "plt.ylabel(\"RADOLAN northing (km)\")\n",
    "plt.title(\"Rainfall accumulation and cell tracks\\nMay 29, 2016, 15:00-18:00 UTC\")\n",
    "ax = plt.gca()\n",
    "for label in labels[1:]:\n",
    "    for i in range(len(im)):\n",
    "        tmp = (label_im[i] == label).astype(\"int\")\n",
    "        #tmp = label_im[i]\n",
    "        regions = regionprops(tmp, intensity_image=im[i])\n",
    "        centx, centy = [], []\n",
    "        for region in regions:\n",
    "        \n",
    "            y0, x0 = region.centroid\n",
    "            centx.append(x0)\n",
    "            centy.append(y0)\n",
    "            orientation = region.orientation\n",
    "\n",
    "            angle=-np.rad2deg( orientation)\n",
    "            e = Ellipse([x0,y0], region.major_axis_length, region.minor_axis_length, \n",
    "                    angle=angle, facecolor=\"none\", edgecolor=plt.cm.rainbow(i/len(im)), linewidth=1.3, alpha=0.5)\n",
    "            ax.add_artist(e)\n",
    "            #plt.plot(x0, y0, \"o\", markerfacecolor=plt.cm.rainbow(i/len(im)), markeredgecolor=\"none\", alpha=0.5)\n",
    "            #plt.contour(tmp, [0.5], linewidths=1., colors=[plt.cm.spectral(i/len(im)),], alpha=0.5)\n",
    "        \n",
    "\n",
    "pm=plt.scatter([], [], c=[], cmap=plt.cm.rainbow, vmin=0, vmax=len(im)*5)\n",
    "cb=plt.colorbar(pm, label=\"Minutes from 2016-05-29 16:00\", shrink=0.75)\n"
   ]
  },
  {
   "cell_type": "code",
   "execution_count": 13,
   "metadata": {},
   "outputs": [],
   "source": [
    "from matplotlib import animation"
   ]
  },
  {
   "cell_type": "code",
   "execution_count": 38,
   "metadata": {},
   "outputs": [],
   "source": [
    "# Animate features\n",
    "\n",
    "# Prepare canvas\n",
    "fig = plt.figure(figsize=(5,5))\n",
    "ax = plt.subplot(111,aspect=\"equal\")\n",
    "im1 = ax.imshow(frames[0], origin=\"lower\", cmap=\"gray\", interpolation=\"none\", vmin=10,  vmax=20)\n",
    "plt.xlabel(\"Easting (km)\")\n",
    "plt.ylabel(\"Northing (km)\")\n",
    "plt.grid(color=\"white\")\n",
    "plt.xlim(150,450)\n",
    "plt.ylim(550,900)\n",
    "#ax1.plot(x[0,goodtrack], y[0,goodtrack], linestyle=\"None\", marker=\"o\", mfc=\"None\", mec=\"limegreen\")\n",
    "#ax1.plot(x[0,~goodtrack], y[0,~goodtrack], linestyle=\"None\", marker=\"o\", mfc=\"None\", mec=\"red\")\n",
    "ax.grid(color=\"white\")\n",
    "tstamp1 = ax.text(160, 560, dtimes[0].isoformat(), color=\"white\", fontsize=12)\n",
    "\n",
    "def animate(j):\n",
    "    im1.set_array(frames[0+j])\n",
    "    tstamp1.set_text(dtimes[0+j].isoformat())\n",
    "    for label in labels[1:]:\n",
    "        #break\n",
    "        tmp = (label_im[j] == label).astype(\"int\")\n",
    "        #tmp = label_im[i]\n",
    "        regions = regionprops(tmp, intensity_image=im[j])\n",
    "        centx, centy = [], []\n",
    "        for region in regions:\n",
    "\n",
    "            y0, x0 = region.centroid\n",
    "            centx.append(x0)\n",
    "            centy.append(y0)\n",
    "            orientation = region.orientation\n",
    "\n",
    "            angle=-np.rad2deg( orientation)\n",
    "            e = Ellipse([x0,y0], region.major_axis_length, region.minor_axis_length, \n",
    "                    angle=angle, facecolor=\"none\", edgecolor=plt.cm.rainbow(j/len(im)), linewidth=1.3, alpha=0.3)\n",
    "            ax.add_artist(e)\n",
    "            #ax.plot(x0, y0, \"o\", markerfacecolor=plt.cm.rainbow(j/len(im)), markeredgecolor=\"none\", alpha=0.5)\n",
    "            tstamp1.set_text(dtimes[0+j].isoformat())\n",
    "\n",
    "    return im1\n",
    "\n",
    "# ATTENTION: THIS IS SLOW - Rendering each frame of the animation might take more time than the interval between the frames\n",
    "#    This can cause the temporal sequence to be confused in the matplotlib interactive mode.\n",
    "#    The animation thus looks better if saved as movie, or you have to increase the interval argument\n",
    "#    Animation not shown in notebook if you use %pylab inline\n",
    "maxi = len(frames)-1\n",
    "ani = animation.FuncAnimation(fig, animate, frames=np.arange(0, maxi), interval=400, blit=False)\n",
    "ani.save(\"features.gif\", writer=\"imagemagick\", dpi=150)"
   ]
  },
  {
   "cell_type": "code",
   "execution_count": null,
   "metadata": {},
   "outputs": [],
   "source": [
    "len(region)"
   ]
  },
  {
   "cell_type": "code",
   "execution_count": null,
   "metadata": {},
   "outputs": [],
   "source": [
    "#fig, ax = plt.subplots()\n",
    "plt.imshow(im, cmap=plt.cm.gray, origin=\"lower\")\n",
    "plt.contour(label_im, [0.5], linewidths=1.2, colors='y')\n",
    "plt.xlabel(\"RADOLAN easting (km)\")\n",
    "plt.ylabel(\"RADOLAN northing (km)\")\n",
    "plt.title(\"Snaphot at 2016-05-29 16:00 UTC\")\n",
    "\n",
    "ax = plt.gca()\n",
    "\n",
    "for i, props in enumerate(regions):\n",
    "    y0, x0 = props.centroid\n",
    "    orientation = props.orientation\n",
    "    x1 = x0 + math.cos(orientation) * 0.5 * props.major_axis_length\n",
    "    y1 = y0 - math.sin(orientation) * 0.5 * props.major_axis_length\n",
    "    x2 = x0 - math.sin(orientation) * 0.5 * props.minor_axis_length\n",
    "    y2 = y0 - math.cos(orientation) * 0.5 * props.minor_axis_length\n",
    "\n",
    "    #plt.plot((x0, x1), (y0, y1), '--r', linewidth=2)\n",
    "    #plt.plot((x0, x2), (y0, y2), '--r', linewidth=2)\n",
    "    #plt.plot(x0, y0, '.r', markersize=15)\n",
    "    angle=-np.rad2deg( props.orientation)\n",
    "    e = Ellipse([x0,y0], props.major_axis_length, props.minor_axis_length, \n",
    "                angle=angle, facecolor=\"none\", edgecolor=\"red\", linewidth=2)\n",
    "    ax.add_artist(e)\n",
    "\n",
    "    minr, minc, maxr, maxc = props.bbox\n",
    "    bx = (minc, maxc, maxc, minc, minc)\n",
    "    by = (minr, minr, maxr, maxr, minr)\n",
    "    #plt.plot(bx, by, '-b', linewidth=2.5)\n",
    "    try: \n",
    "        label = \"ID=%s\\navg=%d mm/h\\nmax=%d mm/h\" % (props.label, props.mean_intensity, props.max_intensity)\n",
    "    except:\n",
    "        label = \"ID=%s, avg=%s mm/h, max=%s mm/h\" % (props.label, \"nan\", \"nan\")\n",
    "    plt.text((minc+maxc)/2, maxr+2, label, color=\"red\", fontsize=10, horizontalalignment='center')  \n",
    "    \n",
    "\n",
    "#plt.axis((0, 900, 900, 0))\n",
    "plt.xlim(200,900)\n",
    "plt.ylim(0,470)"
   ]
  },
  {
   "cell_type": "code",
   "execution_count": null,
   "metadata": {},
   "outputs": [],
   "source": [
    "minr, minc, maxr, maxc = props.bbox\n",
    "plt.imshow(im[minr:maxr, minc:maxc])"
   ]
  },
  {
   "cell_type": "code",
   "execution_count": null,
   "metadata": {},
   "outputs": [],
   "source": [
    "im2 = frames[1]\n",
    "\n",
    "fig = plt.figure(figsize=(8, 8))\n",
    "ax2 = plt.subplot(1, 1, 1)\n",
    "    \n",
    "for i, props in enumerate(regions):\n",
    "\n",
    "    minr, minc, maxr, maxc = props.bbox\n",
    "    roi = im[minr:maxr, minc:maxc]\n",
    "    result = match_template(im2, roi)\n",
    "    ij = np.unravel_index(np.argmax(result), result.shape)\n",
    "    x, y = ij[::-1]\n",
    "    print(ij)\n",
    "\n",
    "    #ax1.imshow(roi, cmap=plt.cm.gray)\n",
    "    #ax1.set_axis_off()\n",
    "    #ax1.set_title('Feature #1 at t+0')\n",
    "\n",
    "    ax2.imshow(im2, cmap=plt.cm.gray, origin=\"lower\")\n",
    "    ax2.set_axis_off()\n",
    "    ax2.set_title('Feature #1 at t+2')\n",
    "    # highlight matched region\n",
    "    hcoin, wcoin = roi.shape\n",
    "    rect = plt.Rectangle((x, y), wcoin, hcoin, edgecolor='r', facecolor='none')\n",
    "    ax2.add_patch(rect)\n",
    "    plt.plot(x,y,\".r\")\n",
    "    plt.plot(ij[0],ij[1],\".b\")\n",
    "    # highlight matched region\n",
    "    bx = (minc, maxc, maxc, minc, minc)\n",
    "    by = (minr, minr, maxr, maxr, minr)\n",
    "    plt.plot(bx, by, '-b', linewidth=1.)\n",
    "    "
   ]
  },
  {
   "cell_type": "code",
   "execution_count": null,
   "metadata": {},
   "outputs": [],
   "source": [
    "ij"
   ]
  },
  {
   "cell_type": "code",
   "execution_count": null,
   "metadata": {},
   "outputs": [],
   "source": [
    "ndimage.find_objects(label_im==15)"
   ]
  },
  {
   "cell_type": "code",
   "execution_count": null,
   "metadata": {},
   "outputs": [],
   "source": [
    "\n",
    "image = frames[2]\n",
    "coin = roi\n",
    "\n",
    "result = match_template(image, coin)\n",
    "ij = np.unravel_index(np.argmax(result), result.shape)\n",
    "x, y = ij[::-1]\n",
    "\n",
    "fig = plt.figure(figsize=(8, 3))\n",
    "ax1 = plt.subplot(1, 2, 1)\n",
    "ax2 = plt.subplot(1, 2, 2, adjustable='box-forced')\n",
    "\n",
    "ax1.imshow(coin, cmap=plt.cm.gray)\n",
    "ax1.set_axis_off()\n",
    "ax1.set_title('Feature #1 at t+0')\n",
    "\n",
    "ax2.imshow(image, cmap=plt.cm.gray)\n",
    "ax2.set_axis_off()\n",
    "ax2.set_title('Feature #1 at t+2')\n",
    "# highlight matched region\n",
    "hcoin, wcoin = coin.shape\n",
    "rect = plt.Rectangle((x, y), wcoin, hcoin, edgecolor='r', facecolor='none')\n",
    "ax2.add_patch(rect)"
   ]
  },
  {
   "cell_type": "code",
   "execution_count": null,
   "metadata": {},
   "outputs": [],
   "source": []
  }
 ],
 "metadata": {
  "kernelspec": {
   "display_name": "Python 3",
   "language": "python",
   "name": "python3"
  },
  "language_info": {
   "codemirror_mode": {
    "name": "ipython",
    "version": 3
   },
   "file_extension": ".py",
   "mimetype": "text/x-python",
   "name": "python",
   "nbconvert_exporter": "python",
   "pygments_lexer": "ipython3",
   "version": "3.6.5"
  },
  "toc": {
   "colors": {
    "hover_highlight": "#DAA520",
    "navigate_num": "#000000",
    "navigate_text": "#333333",
    "running_highlight": "#FF0000",
    "selected_highlight": "#FFD700",
    "sidebar_border": "#EEEEEE",
    "wrapper_background": "#FFFFFF"
   },
   "moveMenuLeft": true,
   "nav_menu": {
    "height": "119px",
    "width": "252px"
   },
   "navigate_menu": true,
   "number_sections": false,
   "sideBar": true,
   "threshold": 4,
   "toc_cell": false,
   "toc_section_display": "block",
   "toc_window_display": false,
   "widenNotebook": false
  }
 },
 "nbformat": 4,
 "nbformat_minor": 1
}
